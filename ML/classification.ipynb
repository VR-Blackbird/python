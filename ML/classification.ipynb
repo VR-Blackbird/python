{
 "cells": [
  {
   "cell_type": "markdown",
   "id": "ca6831aa",
   "metadata": {},
   "source": [
    "# Classification"
   ]
  },
  {
   "cell_type": "code",
   "execution_count": 32,
   "id": "ddbe7eed",
   "metadata": {},
   "outputs": [],
   "source": [
    "import pandas as pd\n",
    "import numpy as np"
   ]
  },
  {
   "cell_type": "code",
   "execution_count": 33,
   "id": "f9107ae0",
   "metadata": {},
   "outputs": [],
   "source": [
    "df = pd.read_csv('ex2data1.csv', names='x1 x2 y'.split())"
   ]
  },
  {
   "cell_type": "code",
   "execution_count": 34,
   "id": "d193813b",
   "metadata": {},
   "outputs": [
    {
     "data": {
      "text/html": [
       "<div>\n",
       "<style scoped>\n",
       "    .dataframe tbody tr th:only-of-type {\n",
       "        vertical-align: middle;\n",
       "    }\n",
       "\n",
       "    .dataframe tbody tr th {\n",
       "        vertical-align: top;\n",
       "    }\n",
       "\n",
       "    .dataframe thead th {\n",
       "        text-align: right;\n",
       "    }\n",
       "</style>\n",
       "<table border=\"1\" class=\"dataframe\">\n",
       "  <thead>\n",
       "    <tr style=\"text-align: right;\">\n",
       "      <th></th>\n",
       "      <th>x1</th>\n",
       "      <th>x2</th>\n",
       "      <th>y</th>\n",
       "    </tr>\n",
       "  </thead>\n",
       "  <tbody>\n",
       "    <tr>\n",
       "      <th>0</th>\n",
       "      <td>34.623660</td>\n",
       "      <td>78.024693</td>\n",
       "      <td>0</td>\n",
       "    </tr>\n",
       "    <tr>\n",
       "      <th>1</th>\n",
       "      <td>30.286711</td>\n",
       "      <td>43.894998</td>\n",
       "      <td>0</td>\n",
       "    </tr>\n",
       "    <tr>\n",
       "      <th>2</th>\n",
       "      <td>35.847409</td>\n",
       "      <td>72.902198</td>\n",
       "      <td>0</td>\n",
       "    </tr>\n",
       "    <tr>\n",
       "      <th>3</th>\n",
       "      <td>60.182599</td>\n",
       "      <td>86.308552</td>\n",
       "      <td>1</td>\n",
       "    </tr>\n",
       "    <tr>\n",
       "      <th>4</th>\n",
       "      <td>79.032736</td>\n",
       "      <td>75.344376</td>\n",
       "      <td>1</td>\n",
       "    </tr>\n",
       "    <tr>\n",
       "      <th>...</th>\n",
       "      <td>...</td>\n",
       "      <td>...</td>\n",
       "      <td>...</td>\n",
       "    </tr>\n",
       "    <tr>\n",
       "      <th>95</th>\n",
       "      <td>83.489163</td>\n",
       "      <td>48.380286</td>\n",
       "      <td>1</td>\n",
       "    </tr>\n",
       "    <tr>\n",
       "      <th>96</th>\n",
       "      <td>42.261701</td>\n",
       "      <td>87.103851</td>\n",
       "      <td>1</td>\n",
       "    </tr>\n",
       "    <tr>\n",
       "      <th>97</th>\n",
       "      <td>99.315009</td>\n",
       "      <td>68.775409</td>\n",
       "      <td>1</td>\n",
       "    </tr>\n",
       "    <tr>\n",
       "      <th>98</th>\n",
       "      <td>55.340018</td>\n",
       "      <td>64.931938</td>\n",
       "      <td>1</td>\n",
       "    </tr>\n",
       "    <tr>\n",
       "      <th>99</th>\n",
       "      <td>74.775893</td>\n",
       "      <td>89.529813</td>\n",
       "      <td>1</td>\n",
       "    </tr>\n",
       "  </tbody>\n",
       "</table>\n",
       "<p>100 rows × 3 columns</p>\n",
       "</div>"
      ],
      "text/plain": [
       "           x1         x2  y\n",
       "0   34.623660  78.024693  0\n",
       "1   30.286711  43.894998  0\n",
       "2   35.847409  72.902198  0\n",
       "3   60.182599  86.308552  1\n",
       "4   79.032736  75.344376  1\n",
       "..        ...        ... ..\n",
       "95  83.489163  48.380286  1\n",
       "96  42.261701  87.103851  1\n",
       "97  99.315009  68.775409  1\n",
       "98  55.340018  64.931938  1\n",
       "99  74.775893  89.529813  1\n",
       "\n",
       "[100 rows x 3 columns]"
      ]
     },
     "execution_count": 34,
     "metadata": {},
     "output_type": "execute_result"
    }
   ],
   "source": [
    "df"
   ]
  },
  {
   "cell_type": "markdown",
   "id": "b0c07db7",
   "metadata": {},
   "source": [
    "## Data cleaning"
   ]
  },
  {
   "cell_type": "code",
   "execution_count": 35,
   "id": "c6c6c91b",
   "metadata": {},
   "outputs": [],
   "source": [
    "x1 = df.x1\n",
    "x2 = df.x2"
   ]
  },
  {
   "cell_type": "code",
   "execution_count": 36,
   "id": "5a69dd8d",
   "metadata": {},
   "outputs": [],
   "source": [
    "x1 = x1.to_numpy()\n",
    "x2 = x2.to_numpy()"
   ]
  },
  {
   "cell_type": "code",
   "execution_count": 37,
   "id": "e3b9a918",
   "metadata": {},
   "outputs": [],
   "source": [
    "x = df.iloc[:, 0:2]"
   ]
  },
  {
   "cell_type": "code",
   "execution_count": 38,
   "id": "06c4b351",
   "metadata": {},
   "outputs": [],
   "source": [
    "ones = np.ones((len(df), 1))"
   ]
  },
  {
   "cell_type": "code",
   "execution_count": 39,
   "id": "084abd8c",
   "metadata": {},
   "outputs": [
    {
     "data": {
      "text/html": [
       "<div>\n",
       "<style scoped>\n",
       "    .dataframe tbody tr th:only-of-type {\n",
       "        vertical-align: middle;\n",
       "    }\n",
       "\n",
       "    .dataframe tbody tr th {\n",
       "        vertical-align: top;\n",
       "    }\n",
       "\n",
       "    .dataframe thead th {\n",
       "        text-align: right;\n",
       "    }\n",
       "</style>\n",
       "<table border=\"1\" class=\"dataframe\">\n",
       "  <thead>\n",
       "    <tr style=\"text-align: right;\">\n",
       "      <th></th>\n",
       "      <th>x0</th>\n",
       "      <th>x1</th>\n",
       "      <th>x2</th>\n",
       "    </tr>\n",
       "  </thead>\n",
       "  <tbody>\n",
       "    <tr>\n",
       "      <th>0</th>\n",
       "      <td>1.0</td>\n",
       "      <td>34.623660</td>\n",
       "      <td>78.024693</td>\n",
       "    </tr>\n",
       "    <tr>\n",
       "      <th>1</th>\n",
       "      <td>1.0</td>\n",
       "      <td>30.286711</td>\n",
       "      <td>43.894998</td>\n",
       "    </tr>\n",
       "    <tr>\n",
       "      <th>2</th>\n",
       "      <td>1.0</td>\n",
       "      <td>35.847409</td>\n",
       "      <td>72.902198</td>\n",
       "    </tr>\n",
       "    <tr>\n",
       "      <th>3</th>\n",
       "      <td>1.0</td>\n",
       "      <td>60.182599</td>\n",
       "      <td>86.308552</td>\n",
       "    </tr>\n",
       "    <tr>\n",
       "      <th>4</th>\n",
       "      <td>1.0</td>\n",
       "      <td>79.032736</td>\n",
       "      <td>75.344376</td>\n",
       "    </tr>\n",
       "    <tr>\n",
       "      <th>...</th>\n",
       "      <td>...</td>\n",
       "      <td>...</td>\n",
       "      <td>...</td>\n",
       "    </tr>\n",
       "    <tr>\n",
       "      <th>95</th>\n",
       "      <td>1.0</td>\n",
       "      <td>83.489163</td>\n",
       "      <td>48.380286</td>\n",
       "    </tr>\n",
       "    <tr>\n",
       "      <th>96</th>\n",
       "      <td>1.0</td>\n",
       "      <td>42.261701</td>\n",
       "      <td>87.103851</td>\n",
       "    </tr>\n",
       "    <tr>\n",
       "      <th>97</th>\n",
       "      <td>1.0</td>\n",
       "      <td>99.315009</td>\n",
       "      <td>68.775409</td>\n",
       "    </tr>\n",
       "    <tr>\n",
       "      <th>98</th>\n",
       "      <td>1.0</td>\n",
       "      <td>55.340018</td>\n",
       "      <td>64.931938</td>\n",
       "    </tr>\n",
       "    <tr>\n",
       "      <th>99</th>\n",
       "      <td>1.0</td>\n",
       "      <td>74.775893</td>\n",
       "      <td>89.529813</td>\n",
       "    </tr>\n",
       "  </tbody>\n",
       "</table>\n",
       "<p>100 rows × 3 columns</p>\n",
       "</div>"
      ],
      "text/plain": [
       "     x0         x1         x2\n",
       "0   1.0  34.623660  78.024693\n",
       "1   1.0  30.286711  43.894998\n",
       "2   1.0  35.847409  72.902198\n",
       "3   1.0  60.182599  86.308552\n",
       "4   1.0  79.032736  75.344376\n",
       "..  ...        ...        ...\n",
       "95  1.0  83.489163  48.380286\n",
       "96  1.0  42.261701  87.103851\n",
       "97  1.0  99.315009  68.775409\n",
       "98  1.0  55.340018  64.931938\n",
       "99  1.0  74.775893  89.529813\n",
       "\n",
       "[100 rows x 3 columns]"
      ]
     },
     "execution_count": 39,
     "metadata": {},
     "output_type": "execute_result"
    }
   ],
   "source": [
    "x.insert(0, \"x0\", ones)\n",
    "x"
   ]
  },
  {
   "cell_type": "code",
   "execution_count": 40,
   "id": "2a406fa1",
   "metadata": {},
   "outputs": [],
   "source": [
    "x  = x.to_numpy()"
   ]
  },
  {
   "cell_type": "code",
   "execution_count": 41,
   "id": "59fcaaa9",
   "metadata": {},
   "outputs": [],
   "source": [
    "y = df.y.to_numpy()\n",
    "y = y.reshape((100, 1))"
   ]
  },
  {
   "cell_type": "code",
   "execution_count": 42,
   "id": "46969aaf",
   "metadata": {},
   "outputs": [],
   "source": [
    "initial_theta = np.zeros((x.shape[1], 1))"
   ]
  },
  {
   "cell_type": "code",
   "execution_count": 43,
   "id": "cb2fe676",
   "metadata": {},
   "outputs": [
    {
     "data": {
      "text/plain": [
       "array([[0.],\n",
       "       [0.],\n",
       "       [0.]])"
      ]
     },
     "execution_count": 43,
     "metadata": {},
     "output_type": "execute_result"
    }
   ],
   "source": [
    "initial_theta"
   ]
  },
  {
   "cell_type": "code",
   "execution_count": 44,
   "id": "3f834c00",
   "metadata": {},
   "outputs": [
    {
     "data": {
      "text/plain": [
       "(100, 3)"
      ]
     },
     "execution_count": 44,
     "metadata": {},
     "output_type": "execute_result"
    }
   ],
   "source": [
    "x.shape"
   ]
  },
  {
   "cell_type": "code",
   "execution_count": 45,
   "id": "b144d367",
   "metadata": {},
   "outputs": [
    {
     "data": {
      "text/plain": [
       "(100, 1)"
      ]
     },
     "execution_count": 45,
     "metadata": {},
     "output_type": "execute_result"
    }
   ],
   "source": [
    "y.shape"
   ]
  },
  {
   "cell_type": "markdown",
   "id": "4ceb42b4",
   "metadata": {},
   "source": [
    "## Plot data"
   ]
  },
  {
   "cell_type": "code",
   "execution_count": 46,
   "id": "2153e139",
   "metadata": {},
   "outputs": [],
   "source": [
    "import matplotlib.pyplot as plt"
   ]
  },
  {
   "cell_type": "code",
   "execution_count": 146,
   "id": "815f20be",
   "metadata": {},
   "outputs": [
    {
     "data": {
      "text/plain": [
       "<matplotlib.collections.PathCollection at 0x7733d2afd240>"
      ]
     },
     "execution_count": 146,
     "metadata": {},
     "output_type": "execute_result"
    },
    {
     "data": {
      "image/png": "[encoded data removed]",
      "text/plain": [
       "<Figure size 640x480 with 1 Axes>"
      ]
     },
     "metadata": {},
     "output_type": "display_data"
    }
   ],
   "source": [
    "plt.scatter(x[:, 1], x[:, 2], marker=\"o\", c=y, s=40, edgecolor=\"k\")"
   ]
  },
  {
   "cell_type": "code",
   "execution_count": null,
   "id": "09e67c39",
   "metadata": {},
   "outputs": [],
   "source": []
  },
  {
   "cell_type": "markdown",
   "id": "19038219",
   "metadata": {},
   "source": [
    "## Hypothesis"
   ]
  },
  {
   "cell_type": "code",
   "execution_count": 48,
   "id": "4947c881",
   "metadata": {},
   "outputs": [],
   "source": [
    "#1/(1 + e^-z) where z is theta * x \n",
    "import math"
   ]
  },
  {
   "cell_type": "code",
   "execution_count": 49,
   "id": "b625a9fc",
   "metadata": {},
   "outputs": [],
   "source": [
    "def hypothesis(theta, x):\n",
    "    hyp = np.matmul(x, theta)\n",
    "    return 1/(1 + np.exp(-hyp))"
   ]
  },
  {
   "cell_type": "code",
   "execution_count": null,
   "id": "e17a4207",
   "metadata": {},
   "outputs": [],
   "source": []
  },
  {
   "cell_type": "markdown",
   "id": "1f8bcc1e",
   "metadata": {},
   "source": [
    "## Cost Function"
   ]
  },
  {
   "cell_type": "code",
   "execution_count": 50,
   "id": "b154a514",
   "metadata": {},
   "outputs": [],
   "source": [
    "def cost(theta, x, y, total_examples):\n",
    "    hyp = hypothesis(theta, x)\n",
    "    res_cost = (-1/total_examples) * sum((y - np.log(hyp)) + ((1- y)* np.log(1- hyp)))\n",
    "    return res_cost"
   ]
  },
  {
   "cell_type": "code",
   "execution_count": 51,
   "id": "4c18aa67",
   "metadata": {},
   "outputs": [
    {
     "data": {
      "text/plain": [
       "array([-1.01588831])"
      ]
     },
     "execution_count": 51,
     "metadata": {},
     "output_type": "execute_result"
    }
   ],
   "source": [
    "cost(initial_theta, x, y, len(x))"
   ]
  },
  {
   "cell_type": "code",
   "execution_count": 52,
   "id": "1889f4cd",
   "metadata": {},
   "outputs": [
    {
     "data": {
      "text/plain": [
       "(3, 1)"
      ]
     },
     "execution_count": 52,
     "metadata": {},
     "output_type": "execute_result"
    }
   ],
   "source": [
    "initial_theta.shape"
   ]
  },
  {
   "cell_type": "code",
   "execution_count": 53,
   "id": "a8d54735",
   "metadata": {},
   "outputs": [
    {
     "data": {
      "text/plain": [
       "(100, 3)"
      ]
     },
     "execution_count": 53,
     "metadata": {},
     "output_type": "execute_result"
    }
   ],
   "source": [
    "x.shape"
   ]
  },
  {
   "cell_type": "code",
   "execution_count": null,
   "id": "a68b84c0",
   "metadata": {},
   "outputs": [],
   "source": []
  },
  {
   "cell_type": "markdown",
   "id": "42259526",
   "metadata": {},
   "source": [
    "## Gradient Descent"
   ]
  },
  {
   "cell_type": "code",
   "execution_count": 123,
   "id": "2faa7f07",
   "metadata": {},
   "outputs": [],
   "source": [
    "def gradient(x_values, y, m, theta, alpha, iterations):\n",
    "    cost_history = []\n",
    "    while True:\n",
    "        prev_cost = cost(theta, x_values, y, m) \n",
    "        hyp = hypothesis(theta, x_values)\n",
    "        theta -= (alpha/m) * (np.matmul(np.transpose(x_values), hyp-y))\n",
    "        new_cost = cost(theta, x_values, y, m)\n",
    "        cost_history.append(new_cost)\n",
    "        if round(prev_cost[0], 8) == round(new_cost[0], 8):\n",
    "            return theta, cost_history"
   ]
  },
  {
   "cell_type": "code",
   "execution_count": 124,
   "id": "fd7b2298",
   "metadata": {},
   "outputs": [],
   "source": [
    "theta, cost_history = gradient(x, y, len(x), initial_theta, 0.001, 100)"
   ]
  },
  {
   "cell_type": "code",
   "execution_count": 125,
   "id": "2cbb6628",
   "metadata": {},
   "outputs": [
    {
     "data": {
      "text/plain": [
       "6309235"
      ]
     },
     "execution_count": 125,
     "metadata": {},
     "output_type": "execute_result"
    }
   ],
   "source": [
    "len(cost_history)"
   ]
  },
  {
   "cell_type": "code",
   "execution_count": 135,
   "id": "d3e97a2f",
   "metadata": {},
   "outputs": [
    {
     "data": {
      "text/plain": [
       "array([[-24.58228967],\n",
       "       [  0.20160041],\n",
       "       [  0.19678601]])"
      ]
     },
     "execution_count": 135,
     "metadata": {},
     "output_type": "execute_result"
    }
   ],
   "source": [
    "theta"
   ]
  },
  {
   "cell_type": "code",
   "execution_count": null,
   "id": "c7d378cd",
   "metadata": {},
   "outputs": [],
   "source": []
  },
  {
   "cell_type": "code",
   "execution_count": 136,
   "id": "00b19571",
   "metadata": {},
   "outputs": [],
   "source": [
    "hyp_arr = hypothesis(theta, x[:, :])"
   ]
  },
  {
   "cell_type": "code",
   "execution_count": 137,
   "id": "daef4177",
   "metadata": {},
   "outputs": [
    {
     "data": {
      "text/plain": [
       "array([[9.55240364e-02],\n",
       "       [5.33515048e-05],\n",
       "       [4.70072790e-02],\n",
       "       [9.89385494e-01],\n",
       "       [9.97928609e-01],\n",
       "       [1.19948744e-02],\n",
       "       [9.98805625e-01],\n",
       "       [4.26513155e-01],\n",
       "       [9.99651806e-01],\n",
       "       [7.32268777e-01],\n",
       "       [9.05991004e-01],\n",
       "       [3.11525379e-02],\n",
       "       [9.99143181e-01],\n",
       "       [9.99821601e-01],\n",
       "       [1.61330211e-01],\n",
       "       [9.79225891e-01],\n",
       "       [4.30666135e-01],\n",
       "       [1.54663165e-01],\n",
       "       [9.99647413e-01],\n",
       "       [5.74185470e-01],\n",
       "       [7.10906002e-02],\n",
       "       [9.98414042e-01],\n",
       "       [8.32348820e-03],\n",
       "       [1.25220706e-04],\n",
       "       [9.90987009e-01],\n",
       "       [8.50385874e-01],\n",
       "       [5.99733064e-01],\n",
       "       [8.61169574e-01],\n",
       "       [9.72995879e-02],\n",
       "       [1.84727136e-02],\n",
       "       [8.92771992e-01],\n",
       "       [9.79413705e-01],\n",
       "       [1.60479253e-01],\n",
       "       [3.94962561e-01],\n",
       "       [7.82981128e-02],\n",
       "       [3.58166761e-02],\n",
       "       [8.46993252e-01],\n",
       "       [9.86311172e-01],\n",
       "       [2.10206812e-01],\n",
       "       [5.28938978e-02],\n",
       "       [9.68111532e-01],\n",
       "       [6.89810973e-03],\n",
       "       [9.99364573e-01],\n",
       "       [5.04097172e-01],\n",
       "       [5.09810357e-03],\n",
       "       [1.42668857e-01],\n",
       "       [9.92194153e-01],\n",
       "       [9.99994946e-01],\n",
       "       [9.99065362e-01],\n",
       "       [9.99988010e-01],\n",
       "       [9.97825723e-01],\n",
       "       [9.99410030e-01],\n",
       "       [9.01199878e-01],\n",
       "       [3.21413284e-03],\n",
       "       [9.53056428e-03],\n",
       "       [5.64640396e-02],\n",
       "       [9.99825621e-01],\n",
       "       [6.89491666e-01],\n",
       "       [9.84121378e-01],\n",
       "       [9.95181535e-01],\n",
       "       [9.99443814e-01],\n",
       "       [2.70324901e-04],\n",
       "       [4.00823259e-03],\n",
       "       [1.56356525e-04],\n",
       "       [7.58089401e-02],\n",
       "       [4.40560678e-02],\n",
       "       [9.40895724e-01],\n",
       "       [1.12136036e-02],\n",
       "       [9.99940487e-01],\n",
       "       [7.06019430e-01],\n",
       "       [7.76588479e-05],\n",
       "       [9.75484004e-01],\n",
       "       [9.99868850e-01],\n",
       "       [8.79755595e-01],\n",
       "       [9.00961374e-01],\n",
       "       [9.99943674e-01],\n",
       "       [9.13490495e-01],\n",
       "       [6.24434998e-01],\n",
       "       [1.74748269e-02],\n",
       "       [5.99003152e-01],\n",
       "       [9.99158260e-01],\n",
       "       [9.71484732e-01],\n",
       "       [8.90235923e-01],\n",
       "       [2.08933658e-01],\n",
       "       [9.99926589e-01],\n",
       "       [9.97682057e-01],\n",
       "       [3.57941453e-01],\n",
       "       [9.99781462e-01],\n",
       "       [9.99966013e-01],\n",
       "       [1.12014980e-01],\n",
       "       [9.99930283e-01],\n",
       "       [9.99981031e-01],\n",
       "       [1.66336720e-03],\n",
       "       [9.99201362e-01],\n",
       "       [9.21038196e-01],\n",
       "       [8.54423220e-01],\n",
       "       [7.46211095e-01],\n",
       "       [9.99873317e-01],\n",
       "       [3.43435283e-01],\n",
       "       [9.99699804e-01]])"
      ]
     },
     "execution_count": 137,
     "metadata": {},
     "output_type": "execute_result"
    }
   ],
   "source": [
    "hyp_arr\n"
   ]
  },
  {
   "cell_type": "code",
   "execution_count": 138,
   "id": "15f5edce",
   "metadata": {},
   "outputs": [],
   "source": [
    "hyp_arr[hyp_arr >= 0.5] = 1\n",
    "hyp_arr[hyp_arr < 0.5] = 0"
   ]
  },
  {
   "cell_type": "code",
   "execution_count": 139,
   "id": "4a7c725c",
   "metadata": {},
   "outputs": [
    {
     "data": {
      "text/plain": [
       "array([[0.],\n",
       "       [0.],\n",
       "       [0.],\n",
       "       [1.],\n",
       "       [1.],\n",
       "       [0.],\n",
       "       [1.],\n",
       "       [0.],\n",
       "       [1.],\n",
       "       [1.],\n",
       "       [1.],\n",
       "       [0.],\n",
       "       [1.],\n",
       "       [1.],\n",
       "       [0.],\n",
       "       [1.],\n",
       "       [0.],\n",
       "       [0.],\n",
       "       [1.],\n",
       "       [1.],\n",
       "       [0.],\n",
       "       [1.],\n",
       "       [0.],\n",
       "       [0.],\n",
       "       [1.],\n",
       "       [1.],\n",
       "       [1.],\n",
       "       [1.],\n",
       "       [0.],\n",
       "       [0.],\n",
       "       [1.],\n",
       "       [1.],\n",
       "       [0.],\n",
       "       [0.],\n",
       "       [0.],\n",
       "       [0.],\n",
       "       [1.],\n",
       "       [1.],\n",
       "       [0.],\n",
       "       [0.],\n",
       "       [1.],\n",
       "       [0.],\n",
       "       [1.],\n",
       "       [1.],\n",
       "       [0.],\n",
       "       [0.],\n",
       "       [1.],\n",
       "       [1.],\n",
       "       [1.],\n",
       "       [1.],\n",
       "       [1.],\n",
       "       [1.],\n",
       "       [1.],\n",
       "       [0.],\n",
       "       [0.],\n",
       "       [0.],\n",
       "       [1.],\n",
       "       [1.],\n",
       "       [1.],\n",
       "       [1.],\n",
       "       [1.],\n",
       "       [0.],\n",
       "       [0.],\n",
       "       [0.],\n",
       "       [0.],\n",
       "       [0.],\n",
       "       [1.],\n",
       "       [0.],\n",
       "       [1.],\n",
       "       [1.],\n",
       "       [0.],\n",
       "       [1.],\n",
       "       [1.],\n",
       "       [1.],\n",
       "       [1.],\n",
       "       [1.],\n",
       "       [1.],\n",
       "       [1.],\n",
       "       [0.],\n",
       "       [1.],\n",
       "       [1.],\n",
       "       [1.],\n",
       "       [1.],\n",
       "       [0.],\n",
       "       [1.],\n",
       "       [1.],\n",
       "       [0.],\n",
       "       [1.],\n",
       "       [1.],\n",
       "       [0.],\n",
       "       [1.],\n",
       "       [1.],\n",
       "       [0.],\n",
       "       [1.],\n",
       "       [1.],\n",
       "       [1.],\n",
       "       [1.],\n",
       "       [1.],\n",
       "       [0.],\n",
       "       [1.]])"
      ]
     },
     "execution_count": 139,
     "metadata": {},
     "output_type": "execute_result"
    }
   ],
   "source": [
    "hyp_arr"
   ]
  },
  {
   "cell_type": "code",
   "execution_count": 140,
   "id": "31adfe6b",
   "metadata": {},
   "outputs": [
    {
     "data": {
      "text/plain": [
       "array([[0],\n",
       "       [0],\n",
       "       [0],\n",
       "       [1],\n",
       "       [1],\n",
       "       [0],\n",
       "       [1],\n",
       "       [1],\n",
       "       [1],\n",
       "       [1],\n",
       "       [0],\n",
       "       [0],\n",
       "       [1],\n",
       "       [1],\n",
       "       [0],\n",
       "       [1],\n",
       "       [1],\n",
       "       [0],\n",
       "       [1],\n",
       "       [1],\n",
       "       [0],\n",
       "       [1],\n",
       "       [0],\n",
       "       [0],\n",
       "       [1],\n",
       "       [1],\n",
       "       [1],\n",
       "       [0],\n",
       "       [0],\n",
       "       [0],\n",
       "       [1],\n",
       "       [1],\n",
       "       [0],\n",
       "       [1],\n",
       "       [0],\n",
       "       [0],\n",
       "       [0],\n",
       "       [1],\n",
       "       [0],\n",
       "       [0],\n",
       "       [1],\n",
       "       [0],\n",
       "       [1],\n",
       "       [0],\n",
       "       [0],\n",
       "       [0],\n",
       "       [1],\n",
       "       [1],\n",
       "       [1],\n",
       "       [1],\n",
       "       [1],\n",
       "       [1],\n",
       "       [1],\n",
       "       [0],\n",
       "       [0],\n",
       "       [0],\n",
       "       [1],\n",
       "       [0],\n",
       "       [1],\n",
       "       [1],\n",
       "       [1],\n",
       "       [0],\n",
       "       [0],\n",
       "       [0],\n",
       "       [0],\n",
       "       [0],\n",
       "       [1],\n",
       "       [0],\n",
       "       [1],\n",
       "       [1],\n",
       "       [0],\n",
       "       [1],\n",
       "       [1],\n",
       "       [1],\n",
       "       [1],\n",
       "       [1],\n",
       "       [1],\n",
       "       [1],\n",
       "       [0],\n",
       "       [0],\n",
       "       [1],\n",
       "       [1],\n",
       "       [1],\n",
       "       [1],\n",
       "       [1],\n",
       "       [1],\n",
       "       [0],\n",
       "       [1],\n",
       "       [1],\n",
       "       [0],\n",
       "       [1],\n",
       "       [1],\n",
       "       [0],\n",
       "       [1],\n",
       "       [1],\n",
       "       [1],\n",
       "       [1],\n",
       "       [1],\n",
       "       [1],\n",
       "       [1]])"
      ]
     },
     "execution_count": 140,
     "metadata": {},
     "output_type": "execute_result"
    }
   ],
   "source": [
    "y"
   ]
  },
  {
   "cell_type": "markdown",
   "id": "650c22d7",
   "metadata": {},
   "source": [
    "## Model accuracy"
   ]
  },
  {
   "cell_type": "code",
   "execution_count": 141,
   "id": "3c062209",
   "metadata": {},
   "outputs": [
    {
     "data": {
      "text/plain": [
       "array([0.11])"
      ]
     },
     "execution_count": 141,
     "metadata": {},
     "output_type": "execute_result"
    }
   ],
   "source": [
    "# Mean squared error mathematically calculating the accuracy of model by comparing actual outputs vs predicted ones\n",
    "\n",
    "mse = (1/(len(x))) * sum((y - hyp_arr)** 2)\n",
    "mse"
   ]
  },
  {
   "cell_type": "code",
   "execution_count": 142,
   "id": "ce415f10",
   "metadata": {},
   "outputs": [],
   "source": [
    "model_accuracy = f'{1 - mse[0]:.1%}'"
   ]
  },
  {
   "cell_type": "code",
   "execution_count": 143,
   "id": "fdd8151c",
   "metadata": {},
   "outputs": [
    {
     "data": {
      "text/plain": [
       "'89.0%'"
      ]
     },
     "execution_count": 143,
     "metadata": {},
     "output_type": "execute_result"
    }
   ],
   "source": [
    "model_accuracy"
   ]
  },
  {
   "cell_type": "code",
   "execution_count": 144,
   "id": "bce2d0c9",
   "metadata": {},
   "outputs": [
    {
     "data": {
      "text/plain": [
       "11"
      ]
     },
     "execution_count": 144,
     "metadata": {},
     "output_type": "execute_result"
    }
   ],
   "source": [
    "len(hyp_arr[hyp_arr != y])"
   ]
  },
  {
   "cell_type": "markdown",
   "id": "ec0e8390",
   "metadata": {},
   "source": [
    "## Plot hypothesis line"
   ]
  },
  {
   "cell_type": "code",
   "execution_count": 189,
   "id": "74c2890d",
   "metadata": {},
   "outputs": [
    {
     "data": {
      "text/plain": [
       "array([[-24.58228967],\n",
       "       [  0.20160041],\n",
       "       [  0.19678601]])"
      ]
     },
     "execution_count": 189,
     "metadata": {},
     "output_type": "execute_result"
    }
   ],
   "source": [
    "theta"
   ]
  },
  {
   "cell_type": "code",
   "execution_count": 196,
   "id": "d0998999",
   "metadata": {},
   "outputs": [],
   "source": [
    "x1 = x[:, 1:]\n",
    "x2 = (-theta[0] - ( theta[1]* x1)) / theta[2]"
   ]
  },
  {
   "cell_type": "code",
   "execution_count": 197,
   "id": "e6175c0e",
   "metadata": {},
   "outputs": [
    {
     "data": {
      "image/png": "[encoded data removed]",
      "text/plain": [
       "<Figure size 1200x900 with 1 Axes>"
      ]
     },
     "metadata": {},
     "output_type": "display_data"
    }
   ],
   "source": [
    "# Plotting the decision boundary\n",
    "plt.figure(figsize=(12,9))\n",
    "scatter = plt.scatter(x[:, 1], x[:, 2], marker=\"o\", c=y, s=40, edgecolor=\"k\")\n",
    "plt.legend(*scatter.legend_elements(),\n",
    "           loc = 'upper left',\n",
    "           title = 'Class')\n",
    "plt.plot(x1, x2, color='red', label='Decision Boundary')\n",
    "plt.show()"
   ]
  },
  {
   "cell_type": "code",
   "execution_count": null,
   "id": "96ef2466",
   "metadata": {},
   "outputs": [],
   "source": []
  },
  {
   "cell_type": "code",
   "execution_count": null,
   "id": "ff4190fc",
   "metadata": {},
   "outputs": [],
   "source": []
  },
  {
   "cell_type": "code",
   "execution_count": null,
   "id": "fb89154a",
   "metadata": {},
   "outputs": [],
   "source": []
  }
 ],
 "metadata": {
  "kernelspec": {
   "display_name": "Python 3 (ipykernel)",
   "language": "python",
   "name": "python3"
  },
  "language_info": {
   "codemirror_mode": {
    "name": "ipython",
    "version": 3
   },
   "file_extension": ".py",
   "mimetype": "text/x-python",
   "name": "python",
   "nbconvert_exporter": "python",
   "pygments_lexer": "ipython3",
   "version": "3.10.12"
  }
 },
 "nbformat": 4,
 "nbformat_minor": 5
}
