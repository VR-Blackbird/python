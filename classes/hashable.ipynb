{
 "cells": [
  {
   "cell_type": "code",
   "execution_count": 1,
   "id": "6f8d95cd",
   "metadata": {},
   "outputs": [],
   "source": [
    "import math\n",
    "\n",
    "\n",
    "class Vector2d:\n",
    "    typecode = 'd'\n",
    "    \n",
    "    def __init__(self, x, y):\n",
    "        self.x = x\n",
    "        self.y = y\n",
    "        self.values = [self.x, self.y]\n",
    "\n",
    "    def angle(self):\n",
    "        return math.atan2(self.y, self.x)\n",
    "        \n",
    "    def __iter__(self):\n",
    "        return (i for i in (self.x, self.y))\n",
    "    \n",
    "    def __str__(self):\n",
    "        return str(tuple(self))\n",
    "    \n",
    "    def __repr__(self):\n",
    "        class_name = type(self).__name__\n",
    "        return '{}({!r}, {!r})'.format(class_name, *self)\n",
    "    \n",
    "    def __call__(self):\n",
    "        return sum([self.x, self.y])\n",
    "\n",
    "    def __abs__(self):\n",
    "        return math.hypot(self.x, self.y)\n",
    "    \n",
    "    def __format__(self, format_spec = ''):\n",
    "        if format_spec.endswith('p'):\n",
    "            coords = (abs(self), self.angle())\n",
    "            format_spec = format_spec[:-1]\n",
    "            outer_fmt = '<{}, {}>'\n",
    "        else:\n",
    "            coords = self\n",
    "            outer_fmt = '({}, {})'\n",
    "        comp = (format(c, format_spec) for c in coords)\n",
    "        return outer_fmt.format(*comp)\n"
   ]
  },
  {
   "cell_type": "code",
   "execution_count": 2,
   "id": "ad4362b3",
   "metadata": {},
   "outputs": [],
   "source": [
    "v = Vector2d(12,11)"
   ]
  },
  {
   "cell_type": "code",
   "execution_count": 3,
   "id": "155cfdbe",
   "metadata": {},
   "outputs": [
    {
     "data": {
      "text/plain": [
       "Vector2d(12, 11)"
      ]
     },
     "execution_count": 3,
     "metadata": {},
     "output_type": "execute_result"
    }
   ],
   "source": [
    "v"
   ]
  },
  {
   "cell_type": "code",
   "execution_count": 5,
   "id": "29b16f66",
   "metadata": {},
   "outputs": [
    {
     "data": {
      "text/plain": [
       "'<16.279, 0.742>'"
      ]
     },
     "execution_count": 5,
     "metadata": {},
     "output_type": "execute_result"
    }
   ],
   "source": [
    "format(v, '.3fp')"
   ]
  },
  {
   "cell_type": "code",
   "execution_count": 6,
   "id": "63aab37a",
   "metadata": {},
   "outputs": [
    {
     "data": {
      "text/plain": [
       "16.278820596099706"
      ]
     },
     "execution_count": 6,
     "metadata": {},
     "output_type": "execute_result"
    }
   ],
   "source": [
    "abs(v)"
   ]
  },
  {
   "cell_type": "code",
   "execution_count": 10,
   "id": "47966da5",
   "metadata": {},
   "outputs": [
    {
     "data": {
      "text/plain": [
       "8753751651809"
      ]
     },
     "execution_count": 10,
     "metadata": {},
     "output_type": "execute_result"
    }
   ],
   "source": [
    "hash(v)"
   ]
  },
  {
   "cell_type": "code",
   "execution_count": 4,
   "id": "9617101e",
   "metadata": {},
   "outputs": [],
   "source": [
    "v1 = Vector2d(123,11)"
   ]
  },
  {
   "cell_type": "code",
   "execution_count": 12,
   "id": "84da8a28",
   "metadata": {},
   "outputs": [
    {
     "data": {
      "text/plain": [
       "8753751652217"
      ]
     },
     "execution_count": 12,
     "metadata": {},
     "output_type": "execute_result"
    }
   ],
   "source": [
    "hash(v1)"
   ]
  },
  {
   "cell_type": "code",
   "execution_count": null,
   "id": "b60b882b",
   "metadata": {},
   "outputs": [],
   "source": []
  }
 ],
 "metadata": {
  "kernelspec": {
   "display_name": "Python 3 (ipykernel)",
   "language": "python",
   "name": "python3"
  },
  "language_info": {
   "codemirror_mode": {
    "name": "ipython",
    "version": 3
   },
   "file_extension": ".py",
   "mimetype": "text/x-python",
   "name": "python",
   "nbconvert_exporter": "python",
   "pygments_lexer": "ipython3",
   "version": "3.10.6"
  }
 },
 "nbformat": 4,
 "nbformat_minor": 5
}
