{
 "cells": [
  {
   "cell_type": "code",
   "execution_count": 5,
   "id": "f6224657",
   "metadata": {},
   "outputs": [],
   "source": [
    "import math\n",
    "\n",
    "\n",
    "class Vector2d:\n",
    "    typecode = 'd'\n",
    "    \n",
    "    def __init__(self, x, y):\n",
    "        self.x = x\n",
    "        self.y = y\n",
    "\n",
    "    def angle(self):\n",
    "        return math.atan2(self.y, self.x)\n",
    "        \n",
    "    def __iter__(self):\n",
    "        return (i for i in (self.x, self.y))\n",
    "    \n",
    "    def __str__(self):\n",
    "        return str(tuple(self))\n",
    "    \n",
    "    def __repr__(self):\n",
    "        class_name = type(self).__name__\n",
    "        return '{}({!r}, {!r})'.format(class_name, *self)\n",
    "    \n",
    "    def __call__(self):\n",
    "        return sum([self.x, self.y])\n",
    "\n",
    "    def __abs__(self):\n",
    "        return math.hypot(self.x, self.y)\n",
    "    \n",
    "    def __format__(self, format_spec = ''):\n",
    "        if format_spec.endswith('p'):\n",
    "            coords = (abs(self), self.angle())\n",
    "            format_spec = format_spec[:-1]\n",
    "            outer_fmt = '<{}, {}>'\n",
    "        else:\n",
    "            coords = self\n",
    "            outer_fmt = '({}, {})'\n",
    "        comp = (format(c, format_spec) for c in coords)\n",
    "        return outer_fmt.format(*comp)\n"
   ]
  },
  {
   "cell_type": "code",
   "execution_count": 6,
   "id": "3a866000",
   "metadata": {},
   "outputs": [],
   "source": [
    "v = Vector2d(11.12,2)"
   ]
  },
  {
   "cell_type": "code",
   "execution_count": 28,
   "id": "7cf0cad5",
   "metadata": {},
   "outputs": [
    {
     "name": "stdout",
     "output_type": "stream",
     "text": [
      "(11.12, 2)\n"
     ]
    }
   ],
   "source": [
    "print(v)"
   ]
  },
  {
   "cell_type": "code",
   "execution_count": 9,
   "id": "06b2377b",
   "metadata": {},
   "outputs": [
    {
     "data": {
      "text/plain": [
       "Vector2d(11, 2)"
      ]
     },
     "execution_count": 9,
     "metadata": {},
     "output_type": "execute_result"
    }
   ],
   "source": [
    "v"
   ]
  },
  {
   "cell_type": "code",
   "execution_count": 10,
   "id": "915c981d",
   "metadata": {},
   "outputs": [
    {
     "data": {
      "text/plain": [
       "13"
      ]
     },
     "execution_count": 10,
     "metadata": {},
     "output_type": "execute_result"
    }
   ],
   "source": [
    "v()"
   ]
  },
  {
   "cell_type": "code",
   "execution_count": 29,
   "id": "750bb433",
   "metadata": {},
   "outputs": [
    {
     "data": {
      "text/plain": [
       "11.298424668952746"
      ]
     },
     "execution_count": 29,
     "metadata": {},
     "output_type": "execute_result"
    }
   ],
   "source": [
    "abs(v)"
   ]
  },
  {
   "cell_type": "code",
   "execution_count": 19,
   "id": "d3b7574d",
   "metadata": {},
   "outputs": [
    {
     "name": "stdout",
     "output_type": "stream",
     "text": [
      "11.12\n",
      "2\n"
     ]
    }
   ],
   "source": [
    "for value in v:\n",
    "    print(value)"
   ]
  },
  {
   "cell_type": "code",
   "execution_count": 30,
   "id": "3f1ba09d",
   "metadata": {},
   "outputs": [
    {
     "data": {
      "text/plain": [
       "'(11.120, 2.000)'"
      ]
     },
     "execution_count": 30,
     "metadata": {},
     "output_type": "execute_result"
    }
   ],
   "source": [
    "format(v, '.3f')"
   ]
  },
  {
   "cell_type": "code",
   "execution_count": 7,
   "id": "42a042a2",
   "metadata": {},
   "outputs": [
    {
     "data": {
      "text/plain": [
       "'<11.298, 0.178>'"
      ]
     },
     "execution_count": 7,
     "metadata": {},
     "output_type": "execute_result"
    }
   ],
   "source": [
    "format(v, '.3fp')"
   ]
  },
  {
   "cell_type": "code",
   "execution_count": 8,
   "id": "6a3b3b9b",
   "metadata": {},
   "outputs": [
    {
     "data": {
      "text/plain": [
       "'<11.298424668952746, 0.17795356540980034>'"
      ]
     },
     "execution_count": 8,
     "metadata": {},
     "output_type": "execute_result"
    }
   ],
   "source": [
    "format(v, 'p')"
   ]
  },
  {
   "cell_type": "code",
   "execution_count": null,
   "id": "9bb7550f",
   "metadata": {},
   "outputs": [],
   "source": []
  }
 ],
 "metadata": {
  "kernelspec": {
   "display_name": "Python 3 (ipykernel)",
   "language": "python",
   "name": "python3"
  },
  "language_info": {
   "codemirror_mode": {
    "name": "ipython",
    "version": 3
   },
   "file_extension": ".py",
   "mimetype": "text/x-python",
   "name": "python",
   "nbconvert_exporter": "python",
   "pygments_lexer": "ipython3",
   "version": "3.10.11"
  },
  "vscode": {
   "interpreter": {
    "hash": "e7370f93d1d0cde622a1f8e1c04877d8463912d04d973331ad4851f04de6915a"
   }
  }
 },
 "nbformat": 4,
 "nbformat_minor": 5
}
